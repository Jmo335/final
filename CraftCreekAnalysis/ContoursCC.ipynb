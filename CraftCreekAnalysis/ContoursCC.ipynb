{
 "cells": [
  {
   "cell_type": "markdown",
   "metadata": {},
   "source": [
    "# Create elevation layers for Mapbox"
   ]
  },
  {
   "cell_type": "markdown",
   "metadata": {},
   "source": [
    "![Contours for import to Mapbox](graphics/qa_15.jpg)"
   ]
  },
  {
   "cell_type": "code",
   "execution_count": 22,
   "metadata": {},
   "outputs": [],
   "source": [
    "# Import ArcGIS package\n",
    "import arcpy\n",
    "# Subprocess allows us to issue commands on the command line\n",
    "import subprocess\n",
    "# Zip utlity to extract files\n",
    "from zipfile import ZipFile\n",
    "# zip up a directory\n",
    "import shutil"
   ]
  },
  {
   "cell_type": "code",
   "execution_count": 23,
   "metadata": {},
   "outputs": [],
   "source": [
    "# Directory for project \n",
    "# Got to use double backslash because of other modules\n",
    "out_directory = \"C:\\\\MontgomeryGIS\\\\final\\\\CraftCreekAnalysis\\\\\"\n",
    "\n",
    "# Project name - creates a folder in project directory\n",
    "project = \"craftcreek\"\n",
    "\n",
    "# Output geodatabase name\n",
    "out_geodb = \"workspaceCC.gdb\"\n",
    "out_shp = \"shapefiles\"\n",
    "\n",
    "# Input layers\n",
    "in_dem = \"C:\\MontgomeryGIS\\craftcreek\\craftcreek.gdb\\craftcreek_dem_5ft\"\n",
    "aoi = \"C:\\MontgomeryGIS\\craftcreek\\craftcreek.gdb\\craftcreek_4000ft\"\n",
    "\n",
    "# Output parameters\n",
    "contour_interval = 10\n",
    "contour_index = 100\n",
    "contour_name = f\"contour_{contour_interval}ft\"\n"
   ]
  },
  {
   "cell_type": "code",
   "execution_count": 24,
   "metadata": {},
   "outputs": [
    {
     "name": "stdout",
     "output_type": "stream",
     "text": [
      " Volume in drive C is Windows\r\n",
      " Volume Serial Number is 44BA-8B6A\r\n",
      "\r\n",
      " Directory of c:\\MontgomeryGIS\\final\\CraftCreekAnalysis\\craftcreek\r\n",
      "\r\n",
      "12/11/2019  06:54 PM    <DIR>          .\r\n",
      "12/11/2019  06:54 PM    <DIR>          ..\r\n",
      "12/11/2019  06:54 PM    <DIR>          shapefiles\r\n",
      "               0 File(s)              0 bytes\r\n",
      "               3 Dir(s)  15,443,185,664 bytes free\r\n",
      "\n"
     ]
    }
   ],
   "source": [
    "# Create folders\n",
    "subprocess.run(f'mkdir {out_directory}{project}', shell=True)\n",
    "subprocess.run(f'mkdir {out_directory}{project}\\\\{out_shp}', shell=True)\n",
    "completed = subprocess.run(f'dir {project}', shell=True, stdout=subprocess.PIPE)\n",
    "print(completed.stdout.decode('UTF-8'))"
   ]
  },
  {
   "cell_type": "code",
   "execution_count": 25,
   "metadata": {},
   "outputs": [],
   "source": [
    "arcpy.env.overwriteOutput = True"
   ]
  },
  {
   "cell_type": "code",
   "execution_count": 26,
   "metadata": {},
   "outputs": [
    {
     "data": {
      "text/plain": [
       "<Result 'C:\\\\MontgomeryGIS\\\\final\\\\CraftCreekAnalysis\\\\craftcreek\\\\workspaceCC.gdb'>"
      ]
     },
     "execution_count": 26,
     "metadata": {},
     "output_type": "execute_result"
    }
   ],
   "source": [
    "# Create project geodatabase\n",
    "arcpy.CreateFileGDB_management(f'{out_directory}{project}', out_geodb)"
   ]
  },
  {
   "cell_type": "code",
   "execution_count": 27,
   "metadata": {},
   "outputs": [
    {
     "name": "stdout",
     "output_type": "stream",
     "text": [
      " Volume in drive C is Windows\r\n",
      " Volume Serial Number is 44BA-8B6A\r\n",
      "\r\n",
      " Directory of c:\\MontgomeryGIS\\final\\CraftCreekAnalysis\\craftcreek\r\n",
      "\r\n",
      "12/11/2019  06:54 PM    <DIR>          .\r\n",
      "12/11/2019  06:54 PM    <DIR>          ..\r\n",
      "12/11/2019  06:54 PM    <DIR>          shapefiles\r\n",
      "12/11/2019  06:54 PM    <DIR>          workspaceCC.gdb\r\n",
      "               0 File(s)              0 bytes\r\n",
      "               4 Dir(s)  15,442,403,328 bytes free\r\n",
      "\n"
     ]
    }
   ],
   "source": [
    "# Create project default geodatabase\n",
    "out_path = f'{out_directory}{project}\\\\{out_geodb}'\n",
    "arcpy.env.workspace = out_path\n",
    "completed = subprocess.run(f'dir {project}', shell=True, stdout=subprocess.PIPE)\n",
    "print(completed.stdout.decode('UTF-8'))"
   ]
  },
  {
   "cell_type": "code",
   "execution_count": 28,
   "metadata": {},
   "outputs": [
    {
     "data": {
      "text/plain": [
       "<Result 'C:\\\\MontgomeryGIS\\\\final\\\\CraftCreekAnalysis\\\\craftcreek\\\\workspaceCC.gdb\\\\contour_10ft'>"
      ]
     },
     "execution_count": 28,
     "metadata": {},
     "output_type": "execute_result"
    }
   ],
   "source": [
    "neighborhood = arcpy.sa.NbrCircle(3,'CELL')\n",
    "outFocalStat = arcpy.sa.FocalStatistics(in_dem, neighborhood, \"MEAN\")\n",
    "outFocalStat.save(\"avg_elev_30ft\")\n",
    "arcpy.Contour_3d (\"avg_elev_30ft\", contour_name, contour_interval)"
   ]
  },
  {
   "cell_type": "code",
   "execution_count": 51,
   "metadata": {},
   "outputs": [
    {
     "data": {
      "text/plain": [
       "<Result 'C:\\\\MontgomeryGIS\\\\SkyBridge\\\\SkyBridge\\\\workspace.gdb\\\\contour_10ft'>"
      ]
     },
     "execution_count": 51,
     "metadata": {},
     "output_type": "execute_result"
    }
   ],
   "source": [
    "code_block = \"\"\"\n",
    "def is_index_contour(x):\n",
    "    if x%contour_index == 0:\n",
    "        return 1\n",
    "    else:\n",
    "        return 0\n",
    "\"\"\"     \n",
    "arcpy.AddField_management (contour_name, \"index\", \"SHORT\")        \n",
    "arcpy.CalculateField_management(contour_name, \"index\", \"is_index_contour(!CONTOUR!)\", \"PYTHON3\", code_block)"
   ]
  },
  {
   "cell_type": "code",
   "execution_count": 29,
   "metadata": {
    "scrolled": true
   },
   "outputs": [
    {
     "data": {
      "text/plain": [
       "<Result 'C:\\\\MontgomeryGIS\\\\final\\\\CraftCreekAnalysis\\\\craftcreek\\\\shapefiles\\\\contour_10ft_aoi.shp'>"
      ]
     },
     "execution_count": 29,
     "metadata": {},
     "output_type": "execute_result"
    }
   ],
   "source": [
    "arcpy.Clip_analysis (contour_name, aoi, f'{out_directory}{project}\\\\{out_shp}\\\\{contour_name}_aoi.shp')"
   ]
  },
  {
   "cell_type": "code",
   "execution_count": 33,
   "metadata": {},
   "outputs": [
    {
     "ename": "AttributeError",
     "evalue": "'ZipFile' object has no attribute 'ZIP_STORED'",
     "output_type": "error",
     "traceback": [
      "\u001b[1;31m---------------------------------------------------------------------------\u001b[0m",
      "\u001b[1;31mAttributeError\u001b[0m                            Traceback (most recent call last)",
      "\u001b[1;32m<ipython-input-33-078ad6340c2c>\u001b[0m in \u001b[0;36m<module>\u001b[1;34m\u001b[0m\n\u001b[0;32m      1\u001b[0m \u001b[0mzipfile\u001b[0m \u001b[1;33m=\u001b[0m \u001b[0mZipFile\u001b[0m\u001b[1;33m(\u001b[0m\u001b[1;34mf\"{out_directory}{project}\\\\{contour_name}_aoi.zip\"\u001b[0m\u001b[1;33m,\u001b[0m \u001b[1;34m\"w\"\u001b[0m \u001b[1;33m)\u001b[0m\u001b[1;33m\u001b[0m\u001b[1;33m\u001b[0m\u001b[0m\n\u001b[1;32m----> 2\u001b[1;33m \u001b[0mzipfile\u001b[0m\u001b[1;33m.\u001b[0m\u001b[0mwrite\u001b[0m\u001b[1;33m(\u001b[0m\u001b[1;34mf'{out_directory}{project}\\\\{out_shp}\\\\'\u001b[0m\u001b[1;33m,\u001b[0m \u001b[0mcompress_type\u001b[0m\u001b[1;33m=\u001b[0m\u001b[0mzipfile\u001b[0m\u001b[1;33m.\u001b[0m\u001b[0mZIP_STORED\u001b[0m\u001b[1;33m)\u001b[0m\u001b[1;33m\u001b[0m\u001b[1;33m\u001b[0m\u001b[0m\n\u001b[0m",
      "\u001b[1;31mAttributeError\u001b[0m: 'ZipFile' object has no attribute 'ZIP_STORED'"
     ]
    }
   ],
   "source": [
    "zipfile = ZipFile(f\"{out_directory}{project}\\\\{contour_name}_aoi.zip\", \"w\" )\n",
    "zipfile.write(f'{out_directory}{project}\\\\{out_shp}\\\\', compress_type=zipfile.ZIP_STORED)"
   ]
  },
  {
   "cell_type": "code",
   "execution_count": 32,
   "metadata": {},
   "outputs": [
    {
     "data": {
      "text/plain": [
       "'C:\\\\MontgomeryGIS\\\\final\\\\CraftCreekAnalysis\\\\craftcreek\\\\contour_10ft_aoi.zip'"
      ]
     },
     "execution_count": 32,
     "metadata": {},
     "output_type": "execute_result"
    }
   ],
   "source": [
    "shutil.make_archive(f\"{out_directory}{project}\\\\{contour_name}_aoi\", 'zip', f'{out_directory}{project}\\\\{out_shp}\\\\')"
   ]
  },
  {
   "cell_type": "code",
   "execution_count": 21,
   "metadata": {},
   "outputs": [
    {
     "data": {
      "text/plain": [
       "CompletedProcess(args='del C:\\\\MontgomeryGIS\\\\final(craft-creek data)\\\\craftcreek\\\\shapefiles\\\\*.*', returncode=1)"
      ]
     },
     "execution_count": 21,
     "metadata": {},
     "output_type": "execute_result"
    }
   ],
   "source": [
    "subprocess.run(f'del {out_directory}{project}\\\\{out_shp}\\\\*.*', shell=True)"
   ]
  },
  {
   "cell_type": "code",
   "execution_count": null,
   "metadata": {},
   "outputs": [],
   "source": []
  }
 ],
 "metadata": {
  "kernelspec": {
   "display_name": "Python 3",
   "language": "python",
   "name": "python3"
  },
  "language_info": {
   "codemirror_mode": {
    "name": "ipython",
    "version": 3
   },
   "file_extension": ".py",
   "mimetype": "text/x-python",
   "name": "python",
   "nbconvert_exporter": "python",
   "pygments_lexer": "ipython3",
   "version": "3.6.8"
  }
 },
 "nbformat": 4,
 "nbformat_minor": 2
}
